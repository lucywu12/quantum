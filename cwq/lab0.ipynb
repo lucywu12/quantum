{
 "cells": [
  {
   "cell_type": "code",
   "execution_count": 23,
   "metadata": {},
   "outputs": [],
   "source": [
    "import qiskit"
   ]
  },
  {
   "cell_type": "code",
   "execution_count": 24,
   "metadata": {},
   "outputs": [
    {
     "data": {
      "text/plain": [
       "'1.1.0'"
      ]
     },
     "execution_count": 24,
     "metadata": {},
     "output_type": "execute_result"
    }
   ],
   "source": [
    "qiskit.__version__"
   ]
  },
  {
   "cell_type": "code",
   "execution_count": 25,
   "metadata": {},
   "outputs": [],
   "source": [
    "from qiskit_ibm_runtime import QiskitRuntimeService\n",
    "\n",
    "service = QiskitRuntimeService(channel = \"ibm_quantum\", \n",
    "                               token = \"e5b9d1d7ab677f9ecb333b9800ece9a38a6ec9377482a6ea4d91cf53d09d39f84dd50c1ea9d07b60602486e43367e474ac78300c3ca017f912e3949f78d1859c\")"
   ]
  },
  {
   "cell_type": "code",
   "execution_count": 26,
   "metadata": {},
   "outputs": [],
   "source": [
    "#save so I don't need to keep entering tokens each time\n",
    "QiskitRuntimeService.save_account(channel ='ibm_quantum',\n",
    "                                  overwrite = 'True',\n",
    "                                  token = 'e5b9d1d7ab677f9ecb333b9800ece9a38a6ec9377482a6ea4d91cf53d09d39f84dd50c1ea9d07b60602486e43367e474ac78300c3ca017f912e3949f78d1859c')"
   ]
  },
  {
   "cell_type": "code",
   "execution_count": 27,
   "metadata": {},
   "outputs": [
    {
     "data": {
      "image/png": "[encoded data removed]",
      "text/plain": [
       "<Figure size 185.453x117.056 with 1 Axes>"
      ]
     },
     "execution_count": 27,
     "metadata": {},
     "output_type": "execute_result"
    }
   ],
   "source": [
    "#check that everything is working correctly\n",
    "from qiskit import QuantumCircuit\n",
    "\n",
    "# Create a new circuit with a single qubit\n",
    "qc = QuantumCircuit(1)\n",
    "\n",
    "# Add a Not gate to qubit 0\n",
    "qc.x(0)\n",
    "\n",
    "# Return a drawing of the circuit using MatPlotLib (\"mpl\"). This is the\n",
    "# last line of the cell, so the drawing appears in the cell output.\n",
    "qc.draw(\"mpl\")"
   ]
  },
  {
   "cell_type": "code",
   "execution_count": 28,
   "metadata": {},
   "outputs": [
    {
     "name": "stdout",
     "output_type": "stream",
     "text": [
      "Requirement already satisfied: qiskit_aer in /Users/lucywu/quantum/miniconda3/lib/python3.12/site-packages (0.14.2)\n",
      "Requirement already satisfied: qiskit>=0.45.2 in /Users/lucywu/quantum/miniconda3/lib/python3.12/site-packages (from qiskit_aer) (1.1.0)\n",
      "Requirement already satisfied: numpy>=1.16.3 in /Users/lucywu/quantum/miniconda3/lib/python3.12/site-packages (from qiskit_aer) (1.26.4)\n",
      "Requirement already satisfied: scipy>=1.0 in /Users/lucywu/quantum/miniconda3/lib/python3.12/site-packages (from qiskit_aer) (1.13.1)\n",
      "Requirement already satisfied: psutil>=5 in /Users/lucywu/quantum/miniconda3/lib/python3.12/site-packages (from qiskit_aer) (5.9.8)\n",
      "Requirement already satisfied: rustworkx>=0.14.0 in /Users/lucywu/quantum/miniconda3/lib/python3.12/site-packages (from qiskit>=0.45.2->qiskit_aer) (0.14.2)\n",
      "Requirement already satisfied: sympy>=1.3 in /Users/lucywu/quantum/miniconda3/lib/python3.12/site-packages (from qiskit>=0.45.2->qiskit_aer) (1.12.1)\n",
      "Requirement already satisfied: dill>=0.3 in /Users/lucywu/quantum/miniconda3/lib/python3.12/site-packages (from qiskit>=0.45.2->qiskit_aer) (0.3.8)\n",
      "Requirement already satisfied: python-dateutil>=2.8.0 in /Users/lucywu/quantum/miniconda3/lib/python3.12/site-packages (from qiskit>=0.45.2->qiskit_aer) (2.9.0)\n",
      "Requirement already satisfied: stevedore>=3.0.0 in /Users/lucywu/quantum/miniconda3/lib/python3.12/site-packages (from qiskit>=0.45.2->qiskit_aer) (5.2.0)\n",
      "Requirement already satisfied: typing-extensions in /Users/lucywu/quantum/miniconda3/lib/python3.12/site-packages (from qiskit>=0.45.2->qiskit_aer) (4.12.2)\n",
      "Requirement already satisfied: symengine>=0.11 in /Users/lucywu/quantum/miniconda3/lib/python3.12/site-packages (from qiskit>=0.45.2->qiskit_aer) (0.11.0)\n",
      "Requirement already satisfied: six>=1.5 in /Users/lucywu/quantum/miniconda3/lib/python3.12/site-packages (from python-dateutil>=2.8.0->qiskit>=0.45.2->qiskit_aer) (1.16.0)\n",
      "Requirement already satisfied: pbr!=2.1.0,>=2.0.0 in /Users/lucywu/quantum/miniconda3/lib/python3.12/site-packages (from stevedore>=3.0.0->qiskit>=0.45.2->qiskit_aer) (6.0.0)\n",
      "Requirement already satisfied: mpmath<1.4.0,>=1.1.0 in /Users/lucywu/quantum/miniconda3/lib/python3.12/site-packages (from sympy>=1.3->qiskit>=0.45.2->qiskit_aer) (1.3.0)\n",
      "Note: you may need to restart the kernel to use updated packages.\n",
      "Requirement already satisfied: qiskit_ibm_runtime in /Users/lucywu/quantum/miniconda3/lib/python3.12/site-packages (0.23.0)\n",
      "Requirement already satisfied: requests>=2.19 in /Users/lucywu/quantum/miniconda3/lib/python3.12/site-packages (from qiskit_ibm_runtime) (2.31.0)\n",
      "Requirement already satisfied: requests-ntlm>=1.1.0 in /Users/lucywu/quantum/miniconda3/lib/python3.12/site-packages (from qiskit_ibm_runtime) (1.2.0)\n",
      "Requirement already satisfied: numpy>=1.13 in /Users/lucywu/quantum/miniconda3/lib/python3.12/site-packages (from qiskit_ibm_runtime) (1.26.4)\n",
      "Requirement already satisfied: urllib3>=1.21.1 in /Users/lucywu/quantum/miniconda3/lib/python3.12/site-packages (from qiskit_ibm_runtime) (2.1.0)\n",
      "Requirement already satisfied: python-dateutil>=2.8.0 in /Users/lucywu/quantum/miniconda3/lib/python3.12/site-packages (from qiskit_ibm_runtime) (2.9.0)\n",
      "Requirement already satisfied: websocket-client>=1.5.1 in /Users/lucywu/quantum/miniconda3/lib/python3.12/site-packages (from qiskit_ibm_runtime) (1.8.0)\n",
      "Requirement already satisfied: ibm-platform-services>=0.22.6 in /Users/lucywu/quantum/miniconda3/lib/python3.12/site-packages (from qiskit_ibm_runtime) (0.53.7)\n",
      "Requirement already satisfied: pydantic in /Users/lucywu/quantum/miniconda3/lib/python3.12/site-packages (from qiskit_ibm_runtime) (2.7.3)\n",
      "Requirement already satisfied: qiskit>=1.0.0 in /Users/lucywu/quantum/miniconda3/lib/python3.12/site-packages (from qiskit_ibm_runtime) (1.1.0)\n",
      "Requirement already satisfied: ibm-cloud-sdk-core<4.0.0,>=3.19.2 in /Users/lucywu/quantum/miniconda3/lib/python3.12/site-packages (from ibm-platform-services>=0.22.6->qiskit_ibm_runtime) (3.20.1)\n",
      "Requirement already satisfied: six>=1.5 in /Users/lucywu/quantum/miniconda3/lib/python3.12/site-packages (from python-dateutil>=2.8.0->qiskit_ibm_runtime) (1.16.0)\n",
      "Requirement already satisfied: rustworkx>=0.14.0 in /Users/lucywu/quantum/miniconda3/lib/python3.12/site-packages (from qiskit>=1.0.0->qiskit_ibm_runtime) (0.14.2)\n",
      "Requirement already satisfied: scipy>=1.5 in /Users/lucywu/quantum/miniconda3/lib/python3.12/site-packages (from qiskit>=1.0.0->qiskit_ibm_runtime) (1.13.1)\n",
      "Requirement already satisfied: sympy>=1.3 in /Users/lucywu/quantum/miniconda3/lib/python3.12/site-packages (from qiskit>=1.0.0->qiskit_ibm_runtime) (1.12.1)\n",
      "Requirement already satisfied: dill>=0.3 in /Users/lucywu/quantum/miniconda3/lib/python3.12/site-packages (from qiskit>=1.0.0->qiskit_ibm_runtime) (0.3.8)\n",
      "Requirement already satisfied: stevedore>=3.0.0 in /Users/lucywu/quantum/miniconda3/lib/python3.12/site-packages (from qiskit>=1.0.0->qiskit_ibm_runtime) (5.2.0)\n",
      "Requirement already satisfied: typing-extensions in /Users/lucywu/quantum/miniconda3/lib/python3.12/site-packages (from qiskit>=1.0.0->qiskit_ibm_runtime) (4.12.2)\n",
      "Requirement already satisfied: symengine>=0.11 in /Users/lucywu/quantum/miniconda3/lib/python3.12/site-packages (from qiskit>=1.0.0->qiskit_ibm_runtime) (0.11.0)\n",
      "Requirement already satisfied: charset-normalizer<4,>=2 in /Users/lucywu/quantum/miniconda3/lib/python3.12/site-packages (from requests>=2.19->qiskit_ibm_runtime) (2.0.4)\n",
      "Requirement already satisfied: idna<4,>=2.5 in /Users/lucywu/quantum/miniconda3/lib/python3.12/site-packages (from requests>=2.19->qiskit_ibm_runtime) (3.7)\n",
      "Requirement already satisfied: certifi>=2017.4.17 in /Users/lucywu/quantum/miniconda3/lib/python3.12/site-packages (from requests>=2.19->qiskit_ibm_runtime) (2024.6.2)\n",
      "Requirement already satisfied: cryptography>=1.3 in /Users/lucywu/quantum/miniconda3/lib/python3.12/site-packages (from requests-ntlm>=1.1.0->qiskit_ibm_runtime) (42.0.5)\n",
      "Requirement already satisfied: pyspnego>=0.1.6 in /Users/lucywu/quantum/miniconda3/lib/python3.12/site-packages (from requests-ntlm>=1.1.0->qiskit_ibm_runtime) (0.10.2)\n",
      "Requirement already satisfied: annotated-types>=0.4.0 in /Users/lucywu/quantum/miniconda3/lib/python3.12/site-packages (from pydantic->qiskit_ibm_runtime) (0.7.0)\n",
      "Requirement already satisfied: pydantic-core==2.18.4 in /Users/lucywu/quantum/miniconda3/lib/python3.12/site-packages (from pydantic->qiskit_ibm_runtime) (2.18.4)\n",
      "Requirement already satisfied: cffi>=1.12 in /Users/lucywu/quantum/miniconda3/lib/python3.12/site-packages (from cryptography>=1.3->requests-ntlm>=1.1.0->qiskit_ibm_runtime) (1.16.0)\n",
      "Requirement already satisfied: PyJWT<3.0.0,>=2.8.0 in /Users/lucywu/quantum/miniconda3/lib/python3.12/site-packages (from ibm-cloud-sdk-core<4.0.0,>=3.19.2->ibm-platform-services>=0.22.6->qiskit_ibm_runtime) (2.8.0)\n",
      "Requirement already satisfied: pbr!=2.1.0,>=2.0.0 in /Users/lucywu/quantum/miniconda3/lib/python3.12/site-packages (from stevedore>=3.0.0->qiskit>=1.0.0->qiskit_ibm_runtime) (6.0.0)\n",
      "Requirement already satisfied: mpmath<1.4.0,>=1.1.0 in /Users/lucywu/quantum/miniconda3/lib/python3.12/site-packages (from sympy>=1.3->qiskit>=1.0.0->qiskit_ibm_runtime) (1.3.0)\n",
      "Requirement already satisfied: pycparser in /Users/lucywu/quantum/miniconda3/lib/python3.12/site-packages (from cffi>=1.12->cryptography>=1.3->requests-ntlm>=1.1.0->qiskit_ibm_runtime) (2.21)\n",
      "Note: you may need to restart the kernel to use updated packages.\n",
      "Requirement already satisfied: matplotlib in /Users/lucywu/quantum/miniconda3/lib/python3.12/site-packages (3.9.0)\n",
      "Requirement already satisfied: contourpy>=1.0.1 in /Users/lucywu/quantum/miniconda3/lib/python3.12/site-packages (from matplotlib) (1.2.1)\n",
      "Requirement already satisfied: cycler>=0.10 in /Users/lucywu/quantum/miniconda3/lib/python3.12/site-packages (from matplotlib) (0.12.1)\n",
      "Requirement already satisfied: fonttools>=4.22.0 in /Users/lucywu/quantum/miniconda3/lib/python3.12/site-packages (from matplotlib) (4.53.0)\n",
      "Requirement already satisfied: kiwisolver>=1.3.1 in /Users/lucywu/quantum/miniconda3/lib/python3.12/site-packages (from matplotlib) (1.4.5)\n",
      "Requirement already satisfied: numpy>=1.23 in /Users/lucywu/quantum/miniconda3/lib/python3.12/site-packages (from matplotlib) (1.26.4)\n",
      "Requirement already satisfied: packaging>=20.0 in /Users/lucywu/quantum/miniconda3/lib/python3.12/site-packages (from matplotlib) (23.2)\n",
      "Requirement already satisfied: pillow>=8 in /Users/lucywu/quantum/miniconda3/lib/python3.12/site-packages (from matplotlib) (10.3.0)\n",
      "Requirement already satisfied: pyparsing>=2.3.1 in /Users/lucywu/quantum/miniconda3/lib/python3.12/site-packages (from matplotlib) (3.1.2)\n",
      "Requirement already satisfied: python-dateutil>=2.7 in /Users/lucywu/quantum/miniconda3/lib/python3.12/site-packages (from matplotlib) (2.9.0)\n",
      "Requirement already satisfied: six>=1.5 in /Users/lucywu/quantum/miniconda3/lib/python3.12/site-packages (from python-dateutil>=2.7->matplotlib) (1.16.0)\n",
      "Note: you may need to restart the kernel to use updated packages.\n",
      "Requirement already satisfied: pylatexenc in /Users/lucywu/quantum/miniconda3/lib/python3.12/site-packages (2.10)\n",
      "Note: you may need to restart the kernel to use updated packages.\n",
      "Requirement already satisfied: qiskit-transpiler-service in /Users/lucywu/quantum/miniconda3/lib/python3.12/site-packages (0.4.3)\n",
      "Requirement already satisfied: qiskit~=1.0 in /Users/lucywu/quantum/miniconda3/lib/python3.12/site-packages (from qiskit-transpiler-service) (1.1.0)\n",
      "Requirement already satisfied: backoff~=2.0 in /Users/lucywu/quantum/miniconda3/lib/python3.12/site-packages (from qiskit-transpiler-service) (2.2.1)\n",
      "Requirement already satisfied: qiskit-qasm3-import~=0.4 in /Users/lucywu/quantum/miniconda3/lib/python3.12/site-packages (from qiskit-transpiler-service) (0.4.2)\n",
      "Requirement already satisfied: requests~=2.0 in /Users/lucywu/quantum/miniconda3/lib/python3.12/site-packages (from qiskit-transpiler-service) (2.31.0)\n",
      "Requirement already satisfied: rustworkx>=0.14.0 in /Users/lucywu/quantum/miniconda3/lib/python3.12/site-packages (from qiskit~=1.0->qiskit-transpiler-service) (0.14.2)\n",
      "Requirement already satisfied: numpy<3,>=1.17 in /Users/lucywu/quantum/miniconda3/lib/python3.12/site-packages (from qiskit~=1.0->qiskit-transpiler-service) (1.26.4)\n",
      "Requirement already satisfied: scipy>=1.5 in /Users/lucywu/quantum/miniconda3/lib/python3.12/site-packages (from qiskit~=1.0->qiskit-transpiler-service) (1.13.1)\n",
      "Requirement already satisfied: sympy>=1.3 in /Users/lucywu/quantum/miniconda3/lib/python3.12/site-packages (from qiskit~=1.0->qiskit-transpiler-service) (1.12.1)\n",
      "Requirement already satisfied: dill>=0.3 in /Users/lucywu/quantum/miniconda3/lib/python3.12/site-packages (from qiskit~=1.0->qiskit-transpiler-service) (0.3.8)\n",
      "Requirement already satisfied: python-dateutil>=2.8.0 in /Users/lucywu/quantum/miniconda3/lib/python3.12/site-packages (from qiskit~=1.0->qiskit-transpiler-service) (2.9.0)\n",
      "Requirement already satisfied: stevedore>=3.0.0 in /Users/lucywu/quantum/miniconda3/lib/python3.12/site-packages (from qiskit~=1.0->qiskit-transpiler-service) (5.2.0)\n",
      "Requirement already satisfied: typing-extensions in /Users/lucywu/quantum/miniconda3/lib/python3.12/site-packages (from qiskit~=1.0->qiskit-transpiler-service) (4.12.2)\n",
      "Requirement already satisfied: symengine>=0.11 in /Users/lucywu/quantum/miniconda3/lib/python3.12/site-packages (from qiskit~=1.0->qiskit-transpiler-service) (0.11.0)\n",
      "Requirement already satisfied: openqasm3<0.6,>=0.4 in /Users/lucywu/quantum/miniconda3/lib/python3.12/site-packages (from openqasm3[parser]<0.6,>=0.4->qiskit-qasm3-import~=0.4->qiskit-transpiler-service) (0.5.0)\n",
      "Requirement already satisfied: charset-normalizer<4,>=2 in /Users/lucywu/quantum/miniconda3/lib/python3.12/site-packages (from requests~=2.0->qiskit-transpiler-service) (2.0.4)\n",
      "Requirement already satisfied: idna<4,>=2.5 in /Users/lucywu/quantum/miniconda3/lib/python3.12/site-packages (from requests~=2.0->qiskit-transpiler-service) (3.7)\n",
      "Requirement already satisfied: urllib3<3,>=1.21.1 in /Users/lucywu/quantum/miniconda3/lib/python3.12/site-packages (from requests~=2.0->qiskit-transpiler-service) (2.1.0)\n",
      "Requirement already satisfied: certifi>=2017.4.17 in /Users/lucywu/quantum/miniconda3/lib/python3.12/site-packages (from requests~=2.0->qiskit-transpiler-service) (2024.6.2)\n",
      "Requirement already satisfied: antlr4-python3-runtime<4.14,>=4.7 in /Users/lucywu/quantum/miniconda3/lib/python3.12/site-packages (from openqasm3[parser]<0.6,>=0.4->qiskit-qasm3-import~=0.4->qiskit-transpiler-service) (4.13.1)\n",
      "Requirement already satisfied: six>=1.5 in /Users/lucywu/quantum/miniconda3/lib/python3.12/site-packages (from python-dateutil>=2.8.0->qiskit~=1.0->qiskit-transpiler-service) (1.16.0)\n",
      "Requirement already satisfied: pbr!=2.1.0,>=2.0.0 in /Users/lucywu/quantum/miniconda3/lib/python3.12/site-packages (from stevedore>=3.0.0->qiskit~=1.0->qiskit-transpiler-service) (6.0.0)\n",
      "Requirement already satisfied: mpmath<1.4.0,>=1.1.0 in /Users/lucywu/quantum/miniconda3/lib/python3.12/site-packages (from sympy>=1.3->qiskit~=1.0->qiskit-transpiler-service) (1.3.0)\n",
      "Note: you may need to restart the kernel to use updated packages.\n",
      "Collecting git+https://github.com/qiskit-community/Quantum-Challenge-Grader.git\n",
      "  Cloning https://github.com/qiskit-community/Quantum-Challenge-Grader.git to /private/var/folders/66/7hvj9wvn2yj3mtg3bd4w8tjh0000gn/T/pip-req-build-hvbq4_5l\n",
      "  Running command git clone --filter=blob:none --quiet https://github.com/qiskit-community/Quantum-Challenge-Grader.git /private/var/folders/66/7hvj9wvn2yj3mtg3bd4w8tjh0000gn/T/pip-req-build-hvbq4_5l\n",
      "  Resolved https://github.com/qiskit-community/Quantum-Challenge-Grader.git to commit cdaecf0af5ffb66e38afc655395708d43d1d4e3a\n",
      "  Preparing metadata (setup.py) ... \u001b[?25ldone\n",
      "\u001b[?25hRequirement already satisfied: typeguard in /Users/lucywu/quantum/miniconda3/lib/python3.12/site-packages (from qc_grader==0.18.10) (4.3.0)\n",
      "Requirement already satisfied: jsonpickle==3.0.3 in /Users/lucywu/quantum/miniconda3/lib/python3.12/site-packages (from qc_grader==0.18.10) (3.0.3)\n",
      "Requirement already satisfied: ipycytoscape in /Users/lucywu/quantum/miniconda3/lib/python3.12/site-packages (from qc_grader==0.18.10) (1.3.3)\n",
      "Requirement already satisfied: plotly in /Users/lucywu/quantum/miniconda3/lib/python3.12/site-packages (from qc_grader==0.18.10) (5.22.0)\n",
      "Requirement already satisfied: networkx==3.2.1 in /Users/lucywu/quantum/miniconda3/lib/python3.12/site-packages (from qc_grader==0.18.10) (3.2.1)\n",
      "Requirement already satisfied: ipywidgets>=7.6.0 in /Users/lucywu/quantum/miniconda3/lib/python3.12/site-packages (from ipycytoscape->qc_grader==0.18.10) (8.1.3)\n",
      "Requirement already satisfied: spectate>=1.0.0 in /Users/lucywu/quantum/miniconda3/lib/python3.12/site-packages (from ipycytoscape->qc_grader==0.18.10) (1.0.1)\n",
      "Requirement already satisfied: tenacity>=6.2.0 in /Users/lucywu/quantum/miniconda3/lib/python3.12/site-packages (from plotly->qc_grader==0.18.10) (8.3.0)\n",
      "Requirement already satisfied: packaging in /Users/lucywu/quantum/miniconda3/lib/python3.12/site-packages (from plotly->qc_grader==0.18.10) (23.2)\n",
      "Requirement already satisfied: typing-extensions>=4.10.0 in /Users/lucywu/quantum/miniconda3/lib/python3.12/site-packages (from typeguard->qc_grader==0.18.10) (4.12.2)\n",
      "Requirement already satisfied: comm>=0.1.3 in /Users/lucywu/quantum/miniconda3/lib/python3.12/site-packages (from ipywidgets>=7.6.0->ipycytoscape->qc_grader==0.18.10) (0.2.2)\n",
      "Requirement already satisfied: ipython>=6.1.0 in /Users/lucywu/quantum/miniconda3/lib/python3.12/site-packages (from ipywidgets>=7.6.0->ipycytoscape->qc_grader==0.18.10) (8.25.0)\n",
      "Requirement already satisfied: traitlets>=4.3.1 in /Users/lucywu/quantum/miniconda3/lib/python3.12/site-packages (from ipywidgets>=7.6.0->ipycytoscape->qc_grader==0.18.10) (5.14.3)\n",
      "Requirement already satisfied: widgetsnbextension~=4.0.11 in /Users/lucywu/quantum/miniconda3/lib/python3.12/site-packages (from ipywidgets>=7.6.0->ipycytoscape->qc_grader==0.18.10) (4.0.11)\n",
      "Requirement already satisfied: jupyterlab-widgets~=3.0.11 in /Users/lucywu/quantum/miniconda3/lib/python3.12/site-packages (from ipywidgets>=7.6.0->ipycytoscape->qc_grader==0.18.10) (3.0.11)\n",
      "Requirement already satisfied: decorator in /Users/lucywu/quantum/miniconda3/lib/python3.12/site-packages (from ipython>=6.1.0->ipywidgets>=7.6.0->ipycytoscape->qc_grader==0.18.10) (5.1.1)\n",
      "Requirement already satisfied: jedi>=0.16 in /Users/lucywu/quantum/miniconda3/lib/python3.12/site-packages (from ipython>=6.1.0->ipywidgets>=7.6.0->ipycytoscape->qc_grader==0.18.10) (0.19.1)\n",
      "Requirement already satisfied: matplotlib-inline in /Users/lucywu/quantum/miniconda3/lib/python3.12/site-packages (from ipython>=6.1.0->ipywidgets>=7.6.0->ipycytoscape->qc_grader==0.18.10) (0.1.7)\n",
      "Requirement already satisfied: prompt-toolkit<3.1.0,>=3.0.41 in /Users/lucywu/quantum/miniconda3/lib/python3.12/site-packages (from ipython>=6.1.0->ipywidgets>=7.6.0->ipycytoscape->qc_grader==0.18.10) (3.0.46)\n",
      "Requirement already satisfied: pygments>=2.4.0 in /Users/lucywu/quantum/miniconda3/lib/python3.12/site-packages (from ipython>=6.1.0->ipywidgets>=7.6.0->ipycytoscape->qc_grader==0.18.10) (2.18.0)\n",
      "Requirement already satisfied: stack-data in /Users/lucywu/quantum/miniconda3/lib/python3.12/site-packages (from ipython>=6.1.0->ipywidgets>=7.6.0->ipycytoscape->qc_grader==0.18.10) (0.6.2)\n",
      "Requirement already satisfied: pexpect>4.3 in /Users/lucywu/quantum/miniconda3/lib/python3.12/site-packages (from ipython>=6.1.0->ipywidgets>=7.6.0->ipycytoscape->qc_grader==0.18.10) (4.9.0)\n",
      "Requirement already satisfied: parso<0.9.0,>=0.8.3 in /Users/lucywu/quantum/miniconda3/lib/python3.12/site-packages (from jedi>=0.16->ipython>=6.1.0->ipywidgets>=7.6.0->ipycytoscape->qc_grader==0.18.10) (0.8.4)\n",
      "Requirement already satisfied: ptyprocess>=0.5 in /Users/lucywu/quantum/miniconda3/lib/python3.12/site-packages (from pexpect>4.3->ipython>=6.1.0->ipywidgets>=7.6.0->ipycytoscape->qc_grader==0.18.10) (0.7.0)\n",
      "Requirement already satisfied: wcwidth in /Users/lucywu/quantum/miniconda3/lib/python3.12/site-packages (from prompt-toolkit<3.1.0,>=3.0.41->ipython>=6.1.0->ipywidgets>=7.6.0->ipycytoscape->qc_grader==0.18.10) (0.2.13)\n",
      "Requirement already satisfied: executing>=1.2.0 in /Users/lucywu/quantum/miniconda3/lib/python3.12/site-packages (from stack-data->ipython>=6.1.0->ipywidgets>=7.6.0->ipycytoscape->qc_grader==0.18.10) (2.0.1)\n",
      "Requirement already satisfied: asttokens>=2.1.0 in /Users/lucywu/quantum/miniconda3/lib/python3.12/site-packages (from stack-data->ipython>=6.1.0->ipywidgets>=7.6.0->ipycytoscape->qc_grader==0.18.10) (2.4.1)\n",
      "Requirement already satisfied: pure-eval in /Users/lucywu/quantum/miniconda3/lib/python3.12/site-packages (from stack-data->ipython>=6.1.0->ipywidgets>=7.6.0->ipycytoscape->qc_grader==0.18.10) (0.2.2)\n",
      "Requirement already satisfied: six>=1.12.0 in /Users/lucywu/quantum/miniconda3/lib/python3.12/site-packages (from asttokens>=2.1.0->stack-data->ipython>=6.1.0->ipywidgets>=7.6.0->ipycytoscape->qc_grader==0.18.10) (1.16.0)\n",
      "Note: you may need to restart the kernel to use updated packages.\n"
     ]
    }
   ],
   "source": [
    "### Install the other required packages as well\n",
    "\n",
    "%pip install qiskit_aer\n",
    "%pip install qiskit_ibm_runtime\n",
    "%pip install matplotlib\n",
    "%pip install pylatexenc\n",
    "%pip install qiskit-transpiler-service\n",
    "%pip install git+https://github.com/qiskit-community/Quantum-Challenge-Grader.git"
   ]
  },
  {
   "cell_type": "code",
   "execution_count": 29,
   "metadata": {},
   "outputs": [
    {
     "name": "stdout",
     "output_type": "stream",
     "text": [
      "env: QXToken=e5b9d1d7ab677f9ecb333b9800ece9a38a6ec9377482a6ea4d91cf53d09d39f84dd50c1ea9d07b60602486e43367e474ac78300c3ca017f912e3949f78d1859c\n"
     ]
    }
   ],
   "source": [
    "# Save your API token to track your progress\n",
    "\n",
    "%set_env QXToken=e5b9d1d7ab677f9ecb333b9800ece9a38a6ec9377482a6ea4d91cf53d09d39f84dd50c1ea9d07b60602486e43367e474ac78300c3ca017f912e3949f78d1859c\n",
    "\n",
    "# Make sure there is no space between the equal sign\n",
    "# and the beginning of your token"
   ]
  },
  {
   "cell_type": "code",
   "execution_count": 30,
   "metadata": {},
   "outputs": [],
   "source": [
    "### Imports\n",
    "\n",
    "from qiskit import QuantumCircuit\n",
    "from qiskit.quantum_info import SparsePauliOp\n",
    "from qiskit_ibm_runtime import EstimatorV2 as Estimator\n",
    "from qiskit_aer import AerSimulator\n",
    "import matplotlib.pyplot as plt\n",
    "from qc_grader.challenges.iqc_2024 import grade_lab0_ex1"
   ]
  },
  {
   "cell_type": "code",
   "execution_count": 31,
   "metadata": {},
   "outputs": [
    {
     "data": {
      "image/png": "[encoded data removed]",
      "text/plain": [
       "<Figure size 287.294x200.667 with 1 Axes>"
      ]
     },
     "execution_count": 31,
     "metadata": {},
     "output_type": "execute_result"
    }
   ],
   "source": [
    "# Create a new circuit with two qubits\n",
    "qc = QuantumCircuit(2)\n",
    "\n",
    "# Add a Hadamard gate to qubit 0\n",
    "qc.h(0)\n",
    "\n",
    "# Perform a CNOT gate on qubit 1, controlled by qubit 0\n",
    "qc.cx(0, 1)\n",
    "\n",
    "# Return a drawing of the circuit using MatPlotLib (\"mpl\"). This is the\n",
    "# last line of the cell, so the drawing appears in the cell output.\n",
    "qc.draw(\"mpl\")"
   ]
  },
  {
   "cell_type": "code",
   "execution_count": 32,
   "metadata": {},
   "outputs": [],
   "source": [
    "# The ZZ applies a Z operator on qubit 0, and a Z operator on qubit 1\n",
    "ZZ = SparsePauliOp('ZZ')\n",
    "\n",
    "# The ZI applies a Z operator on qubit 0, and an Identity operator on qubit 1\n",
    "ZI = SparsePauliOp('ZI')\n",
    "\n",
    "# The IX applies an Identity operator on qubit 0, and an X operator on qubit 1\n",
    "IX = SparsePauliOp('IX')\n",
    "\n",
    "\n",
    "\n",
    "### Write your code below here ###\n",
    "### Follow the same naming convention we used above\n",
    "IZ = SparsePauliOp('IZ')\n",
    "\n",
    "XX = SparsePauliOp('XX')\n",
    "\n",
    "XI = SparsePauliOp('XI')\n",
    "\n",
    "## Don't change any code past this line, but remember to run the cell.\n",
    "\n",
    "observables = [IZ, IX, ZI, XI, ZZ, XX]"
   ]
  },
  {
   "cell_type": "code",
   "execution_count": 33,
   "metadata": {},
   "outputs": [
    {
     "name": "stdout",
     "output_type": "stream",
     "text": [
      "Submitting your answer. Please wait...\n",
      "Congratulations 🎉! Your answer is correct and has been submitted.\n"
     ]
    }
   ],
   "source": [
    "# Submit your answer using following code\n",
    "\n",
    "grade_lab0_ex1(observables)"
   ]
  },
  {
   "cell_type": "code",
   "execution_count": 34,
   "metadata": {},
   "outputs": [],
   "source": [
    "# Set up the Estimator\n",
    "estimator = Estimator(backend=AerSimulator())\n",
    "\n",
    "# Submit the circuit to Estimator\n",
    "pub = (qc, observables)\n",
    "\n",
    "job = estimator.run(pubs=[pub])"
   ]
  },
  {
   "cell_type": "code",
   "execution_count": 35,
   "metadata": {},
   "outputs": [
    {
     "data": {
      "image/png": "[encoded data removed]",
      "text/plain": [
       "<Figure size 640x480 with 1 Axes>"
      ]
     },
     "metadata": {},
     "output_type": "display_data"
    }
   ],
   "source": [
    "# Collect the data\n",
    "data = ['IZ', 'IX', 'ZI', 'XI', 'ZZ', 'XX']\n",
    "values = job.result()[0].data.evs\n",
    "\n",
    "# Set up our graph\n",
    "container = plt.plot(data, values, '-o')\n",
    "\n",
    "# Label each axis\n",
    "plt.xlabel('Observables')\n",
    "plt.ylabel('Values')\n",
    "\n",
    "# Draw the final graph\n",
    "plt.show()"
   ]
  },
  {
   "cell_type": "code",
   "execution_count": 36,
   "metadata": {},
   "outputs": [
    {
     "data": {
      "image/png": "[encoded data removed]",
      "text/plain": [
       "<Figure size 640x480 with 1 Axes>"
      ]
     },
     "metadata": {},
     "output_type": "display_data"
    }
   ],
   "source": [
    "container = plt.bar(data, values, width=0.8)\n",
    "\n",
    "plt.xlabel('Observables')\n",
    "plt.ylabel('Values')\n",
    "\n",
    "plt.show()"
   ]
  }
 ],
 "metadata": {
  "kernelspec": {
   "display_name": "Python 3",
   "language": "python",
   "name": "python3"
  },
  "language_info": {
   "codemirror_mode": {
    "name": "ipython",
    "version": 3
   },
   "file_extension": ".py",
   "mimetype": "text/x-python",
   "name": "python",
   "nbconvert_exporter": "python",
   "pygments_lexer": "ipython3",
   "version": "3.12.2"
  }
 },
 "nbformat": 4,
 "nbformat_minor": 2
}
